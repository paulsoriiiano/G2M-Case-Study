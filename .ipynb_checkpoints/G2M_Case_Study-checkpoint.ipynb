{
 "cells": [
  {
   "cell_type": "markdown",
   "id": "dfd9259a",
   "metadata": {},
   "source": [
    "# G2M Case Study\n",
    "## Data Glacier Virtual Internship\n",
    "### May 12, 2024"
   ]
  },
  {
   "cell_type": "markdown",
   "id": "b75fb17a",
   "metadata": {},
   "source": [
    "   "
   ]
  },
  {
   "cell_type": "markdown",
   "id": "353ff271",
   "metadata": {},
   "source": [
    "### Overview \n",
    "XYZ is a private firm in US. Due to remarkable growth in the taxi and cab industry in last few years and multiple key players in the market, it is planning for an investment in cab industry and as per their Go-to-Market(G2M) strategy they want to understand the market before taking final decision."
   ]
  },
  {
   "cell_type": "markdown",
   "id": "47c9585f",
   "metadata": {},
   "source": [
    "### Data\n",
    "\n",
    "The data provided was collected between January 31, 2016 to December 31, 2018. "
   ]
  },
  {
   "cell_type": "markdown",
   "id": "33da71f3",
   "metadata": {},
   "source": [
    "### Set Up\n",
    "We need to download and read the data"
   ]
  },
  {
   "cell_type": "code",
   "execution_count": 6,
   "id": "17d5f5c5",
   "metadata": {},
   "outputs": [],
   "source": [
    "import pandas as pd\n",
    "\n",
    "# URLs for the files\n",
    "cab_data_url = \"https://raw.githubusercontent.com/paulsoriiiano/G2M-Case-Study/main/data/Cab_Data.csv\"\n",
    "customer_url = \"https://raw.githubusercontent.com/paulsoriiiano/G2M-Case-Study/main/data/Customer_ID.csv\"\n",
    "transaction_url = \"https://raw.githubusercontent.com/paulsoriiiano/G2M-Case-Study/main/data/Transaction_ID.csv\"\n",
    "city_url = \"https://raw.githubusercontent.com/paulsoriiiano/G2M-Case-Study/main/data/City.csv\" \n",
    "\n",
    "# Read .csv files into a dataframe\n",
    "cabs = pd.read_csv(cab_data_url)\n",
    "customers = pd.read_csv(customer_url)\n",
    "transactions = pd.read_csv(transaction_url)\n",
    "cities = pd.read_csv(city_url) "
   ]
  },
  {
   "cell_type": "code",
   "execution_count": null,
   "id": "4d4dac7a",
   "metadata": {},
   "outputs": [],
   "source": []
  }
 ],
 "metadata": {
  "kernelspec": {
   "display_name": "Python 3 (ipykernel)",
   "language": "python",
   "name": "python3"
  },
  "language_info": {
   "codemirror_mode": {
    "name": "ipython",
    "version": 3
   },
   "file_extension": ".py",
   "mimetype": "text/x-python",
   "name": "python",
   "nbconvert_exporter": "python",
   "pygments_lexer": "ipython3",
   "version": "3.10.13"
  }
 },
 "nbformat": 4,
 "nbformat_minor": 5
}
